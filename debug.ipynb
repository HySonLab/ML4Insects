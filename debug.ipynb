{
 "cells": [
  {
   "cell_type": "code",
   "execution_count": 8,
   "metadata": {},
   "outputs": [
    {
     "name": "stdout",
     "output_type": "stream",
     "text": [
      "The autoreload extension is already loaded. To reload it, use:\n",
      "  %reload_ext autoreload\n"
     ]
    }
   ],
   "source": [
    "%load_ext autoreload\n",
    "%autoreload 2"
   ]
  },
  {
   "cell_type": "code",
   "execution_count": 9,
   "metadata": {},
   "outputs": [],
   "source": [
    "from package.DiscoEPG import EPGDataset "
   ]
  },
  {
   "cell_type": "code",
   "execution_count": 10,
   "metadata": {},
   "outputs": [
    {
     "name": "stdout",
     "output_type": "stream",
     "text": [
      "Found 1 datasets: 'SBA-Rag5'.\n",
      "Loading data ...\n"
     ]
    },
    {
     "name": "stderr",
     "output_type": "stream",
     "text": [
      "SBA-Rag5:   8%|▊         | 3/37 [00:00<00:01, 26.20it/s]"
     ]
    },
    {
     "name": "stdout",
     "output_type": "stream",
     "text": [
      "10-6-216-ch1 - Analysis is given up to 28800.00 while the recoring's length is 36000.00.\n",
      "10-6-216-ch1 - Analysis ends at 28800.0 instead of 36000.0.\n",
      "10-6-216-ch3 - Analysis is given up to 28800.00 while the recoring's length is 36000.00.\n",
      "10-6-216-ch3 - Analysis ends at 28800.0 instead of 36000.0.\n",
      "10-7-16-ch1 - Analysis starts at 0.39 instead of 0.\n"
     ]
    },
    {
     "name": "stderr",
     "output_type": "stream",
     "text": [
      "SBA-Rag5:  24%|██▍       | 9/37 [00:00<00:01, 24.81it/s]"
     ]
    },
    {
     "name": "stdout",
     "output_type": "stream",
     "text": [
      "2-8-2016-ch8 - Analysis is given up to 28800.00 while the recoring's length is 36000.00.\n",
      "2-8-2016-ch8 - Analysis ends at 28800.0 instead of 36000.0.\n",
      "3-1-2016-ch1 - Analysis starts at 0.96 instead of 0.\n",
      "4-19-2016-ch1 - Analysis starts at 0.1 instead of 0.\n"
     ]
    },
    {
     "name": "stderr",
     "output_type": "stream",
     "text": [
      "SBA-Rag5:  49%|████▊     | 18/37 [00:00<00:00, 28.17it/s]"
     ]
    },
    {
     "name": "stdout",
     "output_type": "stream",
     "text": [
      "6-10-2016-ch2 - Analysis starts at 6.0 instead of 0.\n"
     ]
    },
    {
     "name": "stderr",
     "output_type": "stream",
     "text": [
      "SBA-Rag5:  65%|██████▍   | 24/37 [00:00<00:00, 26.45it/s]"
     ]
    },
    {
     "name": "stdout",
     "output_type": "stream",
     "text": [
      "6-3-2016-ch7 - Analysis starts at 0.02 instead of 0.\n",
      "6-7-2016-ch5 - Analysis starts at 2113.71 instead of 0.\n"
     ]
    },
    {
     "name": "stderr",
     "output_type": "stream",
     "text": [
      "SBA-Rag5:  89%|████████▉ | 33/37 [00:01<00:00, 26.51it/s]"
     ]
    },
    {
     "name": "stdout",
     "output_type": "stream",
     "text": [
      "7-1-2016-ch8 - Analysis is given up to 28800.00 while the recoring's length is 36000.00.\n",
      "7-1-2016-ch8 - Analysis ends at 28800.0 instead of 36000.0.\n",
      "7-19-2016-ch3 - No analysis (*.ANA) was found.\n"
     ]
    },
    {
     "name": "stderr",
     "output_type": "stream",
     "text": [
      "SBA-Rag5: 100%|██████████| 37/37 [00:01<00:00, 26.29it/s]"
     ]
    },
    {
     "name": "stdout",
     "output_type": "stream",
     "text": [
      "Done! Elapsed: 1.41 s\n",
      "View guidelines checking log at c:\\Dung\\EPG_project\\ML4Insects/Guideline_check.xlsx\n"
     ]
    },
    {
     "name": "stderr",
     "output_type": "stream",
     "text": [
      "\n"
     ]
    }
   ],
   "source": [
    "root_dir = 'C:\\\\Dung\\\\EPG_project\\\\data'\n",
    "dataset = EPGDataset(data_path = root_dir, dataset_name = 'SBA-Rag5', inference = False)"
   ]
  },
  {
   "cell_type": "code",
   "execution_count": 12,
   "metadata": {},
   "outputs": [
    {
     "data": {
      "text/html": [
       "<div>\n",
       "<style scoped>\n",
       "    .dataframe tbody tr th:only-of-type {\n",
       "        vertical-align: middle;\n",
       "    }\n",
       "\n",
       "    .dataframe tbody tr th {\n",
       "        vertical-align: top;\n",
       "    }\n",
       "\n",
       "    .dataframe thead th {\n",
       "        text-align: right;\n",
       "    }\n",
       "</style>\n",
       "<table border=\"1\" class=\"dataframe\">\n",
       "  <thead>\n",
       "    <tr style=\"text-align: right;\">\n",
       "      <th></th>\n",
       "      <th>10-6-216-ch1</th>\n",
       "      <th>10-6-216-ch3</th>\n",
       "      <th>10-7-16-ch1</th>\n",
       "      <th>10-7-16-ch3</th>\n",
       "      <th>2-16-2016-ch5</th>\n",
       "      <th>2-22-2016-ch3</th>\n",
       "      <th>2-8-2016-ch8</th>\n",
       "      <th>3-1-2016-ch1</th>\n",
       "      <th>3-1-2016-ch8</th>\n",
       "      <th>4-19-2016-ch1</th>\n",
       "      <th>...</th>\n",
       "      <th>7-1-2016-ch5</th>\n",
       "      <th>7-1-2016-ch8</th>\n",
       "      <th>7-15-2016-ch4</th>\n",
       "      <th>7-15-2016-ch7</th>\n",
       "      <th>7-19-2016-ch3</th>\n",
       "      <th>7-21-2016-ch1</th>\n",
       "      <th>7-21-2016-ch5</th>\n",
       "      <th>7-29-2016-ch2</th>\n",
       "      <th>7-29-2016-ch4</th>\n",
       "      <th>7-29-2016-ch5</th>\n",
       "    </tr>\n",
       "  </thead>\n",
       "  <tbody>\n",
       "    <tr>\n",
       "      <th>The recording is always started with NP</th>\n",
       "      <td>True.</td>\n",
       "      <td>True.</td>\n",
       "      <td>Starts with C instead of NP.</td>\n",
       "      <td>True.</td>\n",
       "      <td>True.</td>\n",
       "      <td>True.</td>\n",
       "      <td>Starts with G instead of NP.</td>\n",
       "      <td>True.</td>\n",
       "      <td>Starts with C instead of NP.</td>\n",
       "      <td>True.</td>\n",
       "      <td>...</td>\n",
       "      <td>True.</td>\n",
       "      <td>True.</td>\n",
       "      <td>Starts with C instead of NP.</td>\n",
       "      <td>True.</td>\n",
       "      <td>No ANA.</td>\n",
       "      <td>Starts with C instead of NP.</td>\n",
       "      <td>True.</td>\n",
       "      <td>True.</td>\n",
       "      <td>True.</td>\n",
       "      <td>True.</td>\n",
       "    </tr>\n",
       "    <tr>\n",
       "      <th>Np is always followed by C or last until the end</th>\n",
       "      <td>True.</td>\n",
       "      <td>True.</td>\n",
       "      <td>True.</td>\n",
       "      <td>True.</td>\n",
       "      <td>True.</td>\n",
       "      <td>True.</td>\n",
       "      <td>True.</td>\n",
       "      <td>True.</td>\n",
       "      <td>True.</td>\n",
       "      <td>True.</td>\n",
       "      <td>...</td>\n",
       "      <td>True.</td>\n",
       "      <td>True.</td>\n",
       "      <td>True.</td>\n",
       "      <td>True.</td>\n",
       "      <td>No ANA.</td>\n",
       "      <td>True.</td>\n",
       "      <td>At line 0, NP is not followed by C.</td>\n",
       "      <td>True.</td>\n",
       "      <td>At line 56, NP is not followed by C.</td>\n",
       "      <td>True.</td>\n",
       "    </tr>\n",
       "    <tr>\n",
       "      <th>E2 is always preceded by E1</th>\n",
       "      <td>True.</td>\n",
       "      <td>True.</td>\n",
       "      <td>At line 134, E2 is not preceeded by E1.</td>\n",
       "      <td>True.</td>\n",
       "      <td>True.</td>\n",
       "      <td>True.</td>\n",
       "      <td>True.</td>\n",
       "      <td>True.</td>\n",
       "      <td>True.</td>\n",
       "      <td>True.</td>\n",
       "      <td>...</td>\n",
       "      <td>True.</td>\n",
       "      <td>True.</td>\n",
       "      <td>True.</td>\n",
       "      <td>True.</td>\n",
       "      <td>No ANA.</td>\n",
       "      <td>True.</td>\n",
       "      <td>True.</td>\n",
       "      <td>True.</td>\n",
       "      <td>True.</td>\n",
       "      <td>True.</td>\n",
       "    </tr>\n",
       "    <tr>\n",
       "      <th>pd waveform is always preceded by C and followed by C or Np</th>\n",
       "      <td>True.</td>\n",
       "      <td>At line 61, pd is not preceeded by C.</td>\n",
       "      <td>True.</td>\n",
       "      <td>True.</td>\n",
       "      <td>True.</td>\n",
       "      <td>True.</td>\n",
       "      <td>True.</td>\n",
       "      <td>True.</td>\n",
       "      <td>True.</td>\n",
       "      <td>At line 65, pd is not preceeded by C.</td>\n",
       "      <td>...</td>\n",
       "      <td>True.</td>\n",
       "      <td>True.</td>\n",
       "      <td>At line 11, pd is not preceeded by C. At line ...</td>\n",
       "      <td>True.</td>\n",
       "      <td>No ANA.</td>\n",
       "      <td>True.</td>\n",
       "      <td>At line 1, pd is not preceeded by C.</td>\n",
       "      <td>At line 434, pd is not preceeded by C. At line...</td>\n",
       "      <td>At line 58, pd is not preceeded by C.</td>\n",
       "      <td>True.</td>\n",
       "    </tr>\n",
       "    <tr>\n",
       "      <th>The subphase sequence after pd (pdII-1) should be II-2, II-3</th>\n",
       "      <td>True. pd-II-2, pd-II-3 is not presented.</td>\n",
       "      <td>True. pd-II-2, pd-II-3 is not presented.</td>\n",
       "      <td>True. pd-II-2, pd-II-3 is not presented.</td>\n",
       "      <td>True. pd-II-2, pd-II-3 is not presented.</td>\n",
       "      <td>True. pd-II-2, pd-II-3 is not presented.</td>\n",
       "      <td>True. pd-II-2, pd-II-3 is not presented.</td>\n",
       "      <td>True. pd-II-2, pd-II-3 is not presented.</td>\n",
       "      <td>True. pd-II-2, pd-II-3 is not presented.</td>\n",
       "      <td>True. pd-II-2, pd-II-3 is not presented.</td>\n",
       "      <td>True. pd-II-2, pd-II-3 is not presented.</td>\n",
       "      <td>...</td>\n",
       "      <td>True. pd-II-2, pd-II-3 is not presented.</td>\n",
       "      <td>True. pd-II-2, pd-II-3 is not presented.</td>\n",
       "      <td>True. pd-II-2, pd-II-3 is not presented.</td>\n",
       "      <td>True. pd-II-2, pd-II-3 is not presented.</td>\n",
       "      <td>No ANA.</td>\n",
       "      <td>True. pd-II-2, pd-II-3 is not presented.</td>\n",
       "      <td>True. pd-II-2, pd-II-3 is not presented.</td>\n",
       "      <td>True. pd-II-2, pd-II-3 is not presented.</td>\n",
       "      <td>True. pd-II-2, pd-II-3 is not presented.</td>\n",
       "      <td>True. pd-II-2, pd-II-3 is not presented.</td>\n",
       "    </tr>\n",
       "    <tr>\n",
       "      <th>F is always preceded by C</th>\n",
       "      <td>True. F is not presented.</td>\n",
       "      <td>True. F is not presented.</td>\n",
       "      <td>True.</td>\n",
       "      <td>True. F is not presented.</td>\n",
       "      <td>True. F is not presented.</td>\n",
       "      <td>True. F is not presented.</td>\n",
       "      <td>True. F is not presented.</td>\n",
       "      <td>True.</td>\n",
       "      <td>True. F is not presented.</td>\n",
       "      <td>True.</td>\n",
       "      <td>...</td>\n",
       "      <td>True. F is not presented.</td>\n",
       "      <td>True.</td>\n",
       "      <td>True. F is not presented.</td>\n",
       "      <td>True.</td>\n",
       "      <td>No ANA.</td>\n",
       "      <td>True.</td>\n",
       "      <td>True. F is not presented.</td>\n",
       "      <td>True.</td>\n",
       "      <td>True.</td>\n",
       "      <td>True.</td>\n",
       "    </tr>\n",
       "    <tr>\n",
       "      <th>F is always followed by Np or C</th>\n",
       "      <td>True. F is not presented.</td>\n",
       "      <td>True. F is not presented.</td>\n",
       "      <td>True.</td>\n",
       "      <td>True. F is not presented.</td>\n",
       "      <td>True. F is not presented.</td>\n",
       "      <td>True. F is not presented.</td>\n",
       "      <td>True. F is not presented.</td>\n",
       "      <td>True.</td>\n",
       "      <td>True. F is not presented.</td>\n",
       "      <td>True.</td>\n",
       "      <td>...</td>\n",
       "      <td>True. F is not presented.</td>\n",
       "      <td>True.</td>\n",
       "      <td>True. F is not presented.</td>\n",
       "      <td>True.</td>\n",
       "      <td>No ANA.</td>\n",
       "      <td>True.</td>\n",
       "      <td>True. F is not presented.</td>\n",
       "      <td>True.</td>\n",
       "      <td>True.</td>\n",
       "      <td>True.</td>\n",
       "    </tr>\n",
       "    <tr>\n",
       "      <th>G is always preceded by C</th>\n",
       "      <td>True. G is not presented.</td>\n",
       "      <td>True.</td>\n",
       "      <td>True. G is not presented.</td>\n",
       "      <td>True.</td>\n",
       "      <td>True.</td>\n",
       "      <td>True.</td>\n",
       "      <td>At line 0, G is not preceeded by C.</td>\n",
       "      <td>True.</td>\n",
       "      <td>True.</td>\n",
       "      <td>True.</td>\n",
       "      <td>...</td>\n",
       "      <td>True.</td>\n",
       "      <td>True.</td>\n",
       "      <td>At line 10, G is not preceeded by C.</td>\n",
       "      <td>True.</td>\n",
       "      <td>No ANA.</td>\n",
       "      <td>True. G is not presented.</td>\n",
       "      <td>True.</td>\n",
       "      <td>At line 340, G is not preceeded by C.</td>\n",
       "      <td>At line 57, G is not preceeded by C.</td>\n",
       "      <td>True.</td>\n",
       "    </tr>\n",
       "    <tr>\n",
       "      <th>G is always followed by Np or C</th>\n",
       "      <td>True. G is not presented.</td>\n",
       "      <td>At line 60, G is not followed by C or NP.</td>\n",
       "      <td>True. G is not presented.</td>\n",
       "      <td>True.</td>\n",
       "      <td>True.</td>\n",
       "      <td>At line 350, G is not followed by C or NP.</td>\n",
       "      <td>True.</td>\n",
       "      <td>True.</td>\n",
       "      <td>True.</td>\n",
       "      <td>At line 64, 114, G is not followed by C or NP.</td>\n",
       "      <td>...</td>\n",
       "      <td>At line 32, G is not followed by C or NP.</td>\n",
       "      <td>At line 542, G is not followed by C or NP.</td>\n",
       "      <td>True.</td>\n",
       "      <td>True.</td>\n",
       "      <td>No ANA.</td>\n",
       "      <td>True. G is not presented.</td>\n",
       "      <td>True.</td>\n",
       "      <td>At line 433, G is not followed by C or NP.</td>\n",
       "      <td>True.</td>\n",
       "      <td>True.</td>\n",
       "    </tr>\n",
       "    <tr>\n",
       "      <th>E1 is always followed by E1e, E2, C, or Np</th>\n",
       "      <td>True.</td>\n",
       "      <td>True.</td>\n",
       "      <td>True.</td>\n",
       "      <td>True.</td>\n",
       "      <td>True.</td>\n",
       "      <td>True.</td>\n",
       "      <td>True.</td>\n",
       "      <td>True.</td>\n",
       "      <td>True.</td>\n",
       "      <td>True.</td>\n",
       "      <td>...</td>\n",
       "      <td>True.</td>\n",
       "      <td>True.</td>\n",
       "      <td>True.</td>\n",
       "      <td>True.</td>\n",
       "      <td>No ANA.</td>\n",
       "      <td>True.</td>\n",
       "      <td>True.</td>\n",
       "      <td>True.</td>\n",
       "      <td>True.</td>\n",
       "      <td>True.</td>\n",
       "    </tr>\n",
       "    <tr>\n",
       "      <th>The end of each recording must be marked (T, code 99)</th>\n",
       "      <td>True.</td>\n",
       "      <td>True.</td>\n",
       "      <td>True.</td>\n",
       "      <td>True.</td>\n",
       "      <td>True.</td>\n",
       "      <td>True.</td>\n",
       "      <td>True.</td>\n",
       "      <td>True.</td>\n",
       "      <td>True.</td>\n",
       "      <td>True.</td>\n",
       "      <td>...</td>\n",
       "      <td>True.</td>\n",
       "      <td>True.</td>\n",
       "      <td>True.</td>\n",
       "      <td>True.</td>\n",
       "      <td>No ANA.</td>\n",
       "      <td>True.</td>\n",
       "      <td>True.</td>\n",
       "      <td>True.</td>\n",
       "      <td>True.</td>\n",
       "      <td>True.</td>\n",
       "    </tr>\n",
       "  </tbody>\n",
       "</table>\n",
       "<p>11 rows × 37 columns</p>\n",
       "</div>"
      ],
      "text/plain": [
       "                                                                                10-6-216-ch1  \\\n",
       "The recording is always started with NP                                                True.   \n",
       "Np is always followed by C or last until the end                                       True.   \n",
       "E2 is always preceded by E1                                                            True.   \n",
       "pd waveform is always preceded by C and followe...                                     True.   \n",
       "The subphase sequence after pd (pdII-1) should ...  True. pd-II-2, pd-II-3 is not presented.   \n",
       "F is always preceded by C                                          True. F is not presented.   \n",
       "F is always followed by Np or C                                    True. F is not presented.   \n",
       "G is always preceded by C                                          True. G is not presented.   \n",
       "G is always followed by Np or C                                    True. G is not presented.   \n",
       "E1 is always followed by E1e, E2, C, or Np                                             True.   \n",
       "The end of each recording must be marked (T, co...                                     True.   \n",
       "\n",
       "                                                                                 10-6-216-ch3  \\\n",
       "The recording is always started with NP                                                 True.   \n",
       "Np is always followed by C or last until the end                                        True.   \n",
       "E2 is always preceded by E1                                                             True.   \n",
       "pd waveform is always preceded by C and followe...     At line 61, pd is not preceeded by C.    \n",
       "The subphase sequence after pd (pdII-1) should ...   True. pd-II-2, pd-II-3 is not presented.   \n",
       "F is always preceded by C                                           True. F is not presented.   \n",
       "F is always followed by Np or C                                     True. F is not presented.   \n",
       "G is always preceded by C                                                               True.   \n",
       "G is always followed by Np or C                     At line 60, G is not followed by C or NP.   \n",
       "E1 is always followed by E1e, E2, C, or Np                                              True.   \n",
       "The end of each recording must be marked (T, co...                                      True.   \n",
       "\n",
       "                                                                                 10-7-16-ch1  \\\n",
       "The recording is always started with NP                         Starts with C instead of NP.   \n",
       "Np is always followed by C or last until the end                                       True.   \n",
       "E2 is always preceded by E1                          At line 134, E2 is not preceeded by E1.   \n",
       "pd waveform is always preceded by C and followe...                                     True.   \n",
       "The subphase sequence after pd (pdII-1) should ...  True. pd-II-2, pd-II-3 is not presented.   \n",
       "F is always preceded by C                                                              True.   \n",
       "F is always followed by Np or C                                                        True.   \n",
       "G is always preceded by C                                          True. G is not presented.   \n",
       "G is always followed by Np or C                                    True. G is not presented.   \n",
       "E1 is always followed by E1e, E2, C, or Np                                             True.   \n",
       "The end of each recording must be marked (T, co...                                     True.   \n",
       "\n",
       "                                                                                 10-7-16-ch3  \\\n",
       "The recording is always started with NP                                                True.   \n",
       "Np is always followed by C or last until the end                                       True.   \n",
       "E2 is always preceded by E1                                                            True.   \n",
       "pd waveform is always preceded by C and followe...                                     True.   \n",
       "The subphase sequence after pd (pdII-1) should ...  True. pd-II-2, pd-II-3 is not presented.   \n",
       "F is always preceded by C                                          True. F is not presented.   \n",
       "F is always followed by Np or C                                    True. F is not presented.   \n",
       "G is always preceded by C                                                              True.   \n",
       "G is always followed by Np or C                                                        True.   \n",
       "E1 is always followed by E1e, E2, C, or Np                                             True.   \n",
       "The end of each recording must be marked (T, co...                                     True.   \n",
       "\n",
       "                                                                               2-16-2016-ch5  \\\n",
       "The recording is always started with NP                                                True.   \n",
       "Np is always followed by C or last until the end                                       True.   \n",
       "E2 is always preceded by E1                                                            True.   \n",
       "pd waveform is always preceded by C and followe...                                     True.   \n",
       "The subphase sequence after pd (pdII-1) should ...  True. pd-II-2, pd-II-3 is not presented.   \n",
       "F is always preceded by C                                          True. F is not presented.   \n",
       "F is always followed by Np or C                                    True. F is not presented.   \n",
       "G is always preceded by C                                                              True.   \n",
       "G is always followed by Np or C                                                        True.   \n",
       "E1 is always followed by E1e, E2, C, or Np                                             True.   \n",
       "The end of each recording must be marked (T, co...                                     True.   \n",
       "\n",
       "                                                                                 2-22-2016-ch3  \\\n",
       "The recording is always started with NP                                                  True.   \n",
       "Np is always followed by C or last until the end                                         True.   \n",
       "E2 is always preceded by E1                                                              True.   \n",
       "pd waveform is always preceded by C and followe...                                       True.   \n",
       "The subphase sequence after pd (pdII-1) should ...    True. pd-II-2, pd-II-3 is not presented.   \n",
       "F is always preceded by C                                            True. F is not presented.   \n",
       "F is always followed by Np or C                                      True. F is not presented.   \n",
       "G is always preceded by C                                                                True.   \n",
       "G is always followed by Np or C                     At line 350, G is not followed by C or NP.   \n",
       "E1 is always followed by E1e, E2, C, or Np                                               True.   \n",
       "The end of each recording must be marked (T, co...                                       True.   \n",
       "\n",
       "                                                                                2-8-2016-ch8  \\\n",
       "The recording is always started with NP                         Starts with G instead of NP.   \n",
       "Np is always followed by C or last until the end                                       True.   \n",
       "E2 is always preceded by E1                                                            True.   \n",
       "pd waveform is always preceded by C and followe...                                     True.   \n",
       "The subphase sequence after pd (pdII-1) should ...  True. pd-II-2, pd-II-3 is not presented.   \n",
       "F is always preceded by C                                          True. F is not presented.   \n",
       "F is always followed by Np or C                                    True. F is not presented.   \n",
       "G is always preceded by C                                At line 0, G is not preceeded by C.   \n",
       "G is always followed by Np or C                                                        True.   \n",
       "E1 is always followed by E1e, E2, C, or Np                                             True.   \n",
       "The end of each recording must be marked (T, co...                                     True.   \n",
       "\n",
       "                                                                                3-1-2016-ch1  \\\n",
       "The recording is always started with NP                                                True.   \n",
       "Np is always followed by C or last until the end                                       True.   \n",
       "E2 is always preceded by E1                                                            True.   \n",
       "pd waveform is always preceded by C and followe...                                     True.   \n",
       "The subphase sequence after pd (pdII-1) should ...  True. pd-II-2, pd-II-3 is not presented.   \n",
       "F is always preceded by C                                                              True.   \n",
       "F is always followed by Np or C                                                        True.   \n",
       "G is always preceded by C                                                              True.   \n",
       "G is always followed by Np or C                                                        True.   \n",
       "E1 is always followed by E1e, E2, C, or Np                                             True.   \n",
       "The end of each recording must be marked (T, co...                                     True.   \n",
       "\n",
       "                                                                                3-1-2016-ch8  \\\n",
       "The recording is always started with NP                         Starts with C instead of NP.   \n",
       "Np is always followed by C or last until the end                                       True.   \n",
       "E2 is always preceded by E1                                                            True.   \n",
       "pd waveform is always preceded by C and followe...                                     True.   \n",
       "The subphase sequence after pd (pdII-1) should ...  True. pd-II-2, pd-II-3 is not presented.   \n",
       "F is always preceded by C                                          True. F is not presented.   \n",
       "F is always followed by Np or C                                    True. F is not presented.   \n",
       "G is always preceded by C                                                              True.   \n",
       "G is always followed by Np or C                                                        True.   \n",
       "E1 is always followed by E1e, E2, C, or Np                                             True.   \n",
       "The end of each recording must be marked (T, co...                                     True.   \n",
       "\n",
       "                                                                                     4-19-2016-ch1  \\\n",
       "The recording is always started with NP                                                      True.   \n",
       "Np is always followed by C or last until the end                                             True.   \n",
       "E2 is always preceded by E1                                                                  True.   \n",
       "pd waveform is always preceded by C and followe...          At line 65, pd is not preceeded by C.    \n",
       "The subphase sequence after pd (pdII-1) should ...        True. pd-II-2, pd-II-3 is not presented.   \n",
       "F is always preceded by C                                                                    True.   \n",
       "F is always followed by Np or C                                                              True.   \n",
       "G is always preceded by C                                                                    True.   \n",
       "G is always followed by Np or C                     At line 64, 114, G is not followed by C or NP.   \n",
       "E1 is always followed by E1e, E2, C, or Np                                                   True.   \n",
       "The end of each recording must be marked (T, co...                                           True.   \n",
       "\n",
       "                                                    ...  \\\n",
       "The recording is always started with NP             ...   \n",
       "Np is always followed by C or last until the end    ...   \n",
       "E2 is always preceded by E1                         ...   \n",
       "pd waveform is always preceded by C and followe...  ...   \n",
       "The subphase sequence after pd (pdII-1) should ...  ...   \n",
       "F is always preceded by C                           ...   \n",
       "F is always followed by Np or C                     ...   \n",
       "G is always preceded by C                           ...   \n",
       "G is always followed by Np or C                     ...   \n",
       "E1 is always followed by E1e, E2, C, or Np          ...   \n",
       "The end of each recording must be marked (T, co...  ...   \n",
       "\n",
       "                                                                                 7-1-2016-ch5  \\\n",
       "The recording is always started with NP                                                 True.   \n",
       "Np is always followed by C or last until the end                                        True.   \n",
       "E2 is always preceded by E1                                                             True.   \n",
       "pd waveform is always preceded by C and followe...                                      True.   \n",
       "The subphase sequence after pd (pdII-1) should ...   True. pd-II-2, pd-II-3 is not presented.   \n",
       "F is always preceded by C                                           True. F is not presented.   \n",
       "F is always followed by Np or C                                     True. F is not presented.   \n",
       "G is always preceded by C                                                               True.   \n",
       "G is always followed by Np or C                     At line 32, G is not followed by C or NP.   \n",
       "E1 is always followed by E1e, E2, C, or Np                                              True.   \n",
       "The end of each recording must be marked (T, co...                                      True.   \n",
       "\n",
       "                                                                                  7-1-2016-ch8  \\\n",
       "The recording is always started with NP                                                  True.   \n",
       "Np is always followed by C or last until the end                                         True.   \n",
       "E2 is always preceded by E1                                                              True.   \n",
       "pd waveform is always preceded by C and followe...                                       True.   \n",
       "The subphase sequence after pd (pdII-1) should ...    True. pd-II-2, pd-II-3 is not presented.   \n",
       "F is always preceded by C                                                                True.   \n",
       "F is always followed by Np or C                                                          True.   \n",
       "G is always preceded by C                                                                True.   \n",
       "G is always followed by Np or C                     At line 542, G is not followed by C or NP.   \n",
       "E1 is always followed by E1e, E2, C, or Np                                               True.   \n",
       "The end of each recording must be marked (T, co...                                       True.   \n",
       "\n",
       "                                                                                        7-15-2016-ch4  \\\n",
       "The recording is always started with NP                                  Starts with C instead of NP.   \n",
       "Np is always followed by C or last until the end                                                True.   \n",
       "E2 is always preceded by E1                                                                     True.   \n",
       "pd waveform is always preceded by C and followe...  At line 11, pd is not preceeded by C. At line ...   \n",
       "The subphase sequence after pd (pdII-1) should ...           True. pd-II-2, pd-II-3 is not presented.   \n",
       "F is always preceded by C                                                   True. F is not presented.   \n",
       "F is always followed by Np or C                                             True. F is not presented.   \n",
       "G is always preceded by C                                        At line 10, G is not preceeded by C.   \n",
       "G is always followed by Np or C                                                                 True.   \n",
       "E1 is always followed by E1e, E2, C, or Np                                                      True.   \n",
       "The end of each recording must be marked (T, co...                                              True.   \n",
       "\n",
       "                                                                               7-15-2016-ch7  \\\n",
       "The recording is always started with NP                                                True.   \n",
       "Np is always followed by C or last until the end                                       True.   \n",
       "E2 is always preceded by E1                                                            True.   \n",
       "pd waveform is always preceded by C and followe...                                     True.   \n",
       "The subphase sequence after pd (pdII-1) should ...  True. pd-II-2, pd-II-3 is not presented.   \n",
       "F is always preceded by C                                                              True.   \n",
       "F is always followed by Np or C                                                        True.   \n",
       "G is always preceded by C                                                              True.   \n",
       "G is always followed by Np or C                                                        True.   \n",
       "E1 is always followed by E1e, E2, C, or Np                                             True.   \n",
       "The end of each recording must be marked (T, co...                                     True.   \n",
       "\n",
       "                                                   7-19-2016-ch3  \\\n",
       "The recording is always started with NP                  No ANA.   \n",
       "Np is always followed by C or last until the end         No ANA.   \n",
       "E2 is always preceded by E1                              No ANA.   \n",
       "pd waveform is always preceded by C and followe...       No ANA.   \n",
       "The subphase sequence after pd (pdII-1) should ...       No ANA.   \n",
       "F is always preceded by C                                No ANA.   \n",
       "F is always followed by Np or C                          No ANA.   \n",
       "G is always preceded by C                                No ANA.   \n",
       "G is always followed by Np or C                          No ANA.   \n",
       "E1 is always followed by E1e, E2, C, or Np               No ANA.   \n",
       "The end of each recording must be marked (T, co...       No ANA.   \n",
       "\n",
       "                                                                               7-21-2016-ch1  \\\n",
       "The recording is always started with NP                         Starts with C instead of NP.   \n",
       "Np is always followed by C or last until the end                                       True.   \n",
       "E2 is always preceded by E1                                                            True.   \n",
       "pd waveform is always preceded by C and followe...                                     True.   \n",
       "The subphase sequence after pd (pdII-1) should ...  True. pd-II-2, pd-II-3 is not presented.   \n",
       "F is always preceded by C                                                              True.   \n",
       "F is always followed by Np or C                                                        True.   \n",
       "G is always preceded by C                                          True. G is not presented.   \n",
       "G is always followed by Np or C                                    True. G is not presented.   \n",
       "E1 is always followed by E1e, E2, C, or Np                                             True.   \n",
       "The end of each recording must be marked (T, co...                                     True.   \n",
       "\n",
       "                                                                               7-21-2016-ch5  \\\n",
       "The recording is always started with NP                                                True.   \n",
       "Np is always followed by C or last until the end         At line 0, NP is not followed by C.   \n",
       "E2 is always preceded by E1                                                            True.   \n",
       "pd waveform is always preceded by C and followe...     At line 1, pd is not preceeded by C.    \n",
       "The subphase sequence after pd (pdII-1) should ...  True. pd-II-2, pd-II-3 is not presented.   \n",
       "F is always preceded by C                                          True. F is not presented.   \n",
       "F is always followed by Np or C                                    True. F is not presented.   \n",
       "G is always preceded by C                                                              True.   \n",
       "G is always followed by Np or C                                                        True.   \n",
       "E1 is always followed by E1e, E2, C, or Np                                             True.   \n",
       "The end of each recording must be marked (T, co...                                     True.   \n",
       "\n",
       "                                                                                        7-29-2016-ch2  \\\n",
       "The recording is always started with NP                                                         True.   \n",
       "Np is always followed by C or last until the end                                                True.   \n",
       "E2 is always preceded by E1                                                                     True.   \n",
       "pd waveform is always preceded by C and followe...  At line 434, pd is not preceeded by C. At line...   \n",
       "The subphase sequence after pd (pdII-1) should ...           True. pd-II-2, pd-II-3 is not presented.   \n",
       "F is always preceded by C                                                                       True.   \n",
       "F is always followed by Np or C                                                                 True.   \n",
       "G is always preceded by C                                       At line 340, G is not preceeded by C.   \n",
       "G is always followed by Np or C                            At line 433, G is not followed by C or NP.   \n",
       "E1 is always followed by E1e, E2, C, or Np                                                      True.   \n",
       "The end of each recording must be marked (T, co...                                              True.   \n",
       "\n",
       "                                                                               7-29-2016-ch4  \\\n",
       "The recording is always started with NP                                                True.   \n",
       "Np is always followed by C or last until the end        At line 56, NP is not followed by C.   \n",
       "E2 is always preceded by E1                                                            True.   \n",
       "pd waveform is always preceded by C and followe...    At line 58, pd is not preceeded by C.    \n",
       "The subphase sequence after pd (pdII-1) should ...  True. pd-II-2, pd-II-3 is not presented.   \n",
       "F is always preceded by C                                                              True.   \n",
       "F is always followed by Np or C                                                        True.   \n",
       "G is always preceded by C                               At line 57, G is not preceeded by C.   \n",
       "G is always followed by Np or C                                                        True.   \n",
       "E1 is always followed by E1e, E2, C, or Np                                             True.   \n",
       "The end of each recording must be marked (T, co...                                     True.   \n",
       "\n",
       "                                                                               7-29-2016-ch5  \n",
       "The recording is always started with NP                                                True.  \n",
       "Np is always followed by C or last until the end                                       True.  \n",
       "E2 is always preceded by E1                                                            True.  \n",
       "pd waveform is always preceded by C and followe...                                     True.  \n",
       "The subphase sequence after pd (pdII-1) should ...  True. pd-II-2, pd-II-3 is not presented.  \n",
       "F is always preceded by C                                                              True.  \n",
       "F is always followed by Np or C                                                        True.  \n",
       "G is always preceded by C                                                              True.  \n",
       "G is always followed by Np or C                                                        True.  \n",
       "E1 is always followed by E1e, E2, C, or Np                                             True.  \n",
       "The end of each recording must be marked (T, co...                                     True.  \n",
       "\n",
       "[11 rows x 37 columns]"
      ]
     },
     "execution_count": 12,
     "metadata": {},
     "output_type": "execute_result"
    }
   ],
   "source": [
    "import pandas as pd\n",
    "pd.DataFrame(dataset.guideline_check_log).transpose()"
   ]
  },
  {
   "cell_type": "code",
   "execution_count": 13,
   "metadata": {},
   "outputs": [
    {
     "name": "stderr",
     "output_type": "stream",
     "text": [
      "c:\\Dung\\EPG_project\\ML4Insects\\package\\DiscoEPG\\models\\Dataset.py:1043: FutureWarning: The behavior of DataFrame concatenation with empty or all-NA entries is deprecated. In a future version, this will no longer exclude empty or all-NA columns when determining the result dtypes. To retain the old behavior, exclude the relevant entries before the concat operation.\n",
      "  params_hour['a_E2']   = float(np.mean(E2_durations).astype(np.float32))\n",
      "c:\\Dung\\EPG_project\\ML4Insects\\package\\DiscoEPG\\models\\Dataset.py:1064: FutureWarning: The behavior of DataFrame concatenation with empty or all-NA entries is deprecated. In a future version, this will no longer exclude empty or all-NA columns when determining the result dtypes. To retain the old behavior, exclude the relevant entries before the concat operation.\n",
      "  progress_params = pd.concat(progress_params)\n"
     ]
    }
   ],
   "source": [
    "res = dataset.getRecordingParams([0,1,2,3,4,5,6,7,8,9,10], export_xlsx=False, progress = 'overall', view = 'row')"
   ]
  },
  {
   "cell_type": "code",
   "execution_count": 14,
   "metadata": {},
   "outputs": [
    {
     "data": {
      "text/html": [
       "<div>\n",
       "<style scoped>\n",
       "    .dataframe tbody tr th:only-of-type {\n",
       "        vertical-align: middle;\n",
       "    }\n",
       "\n",
       "    .dataframe tbody tr th {\n",
       "        vertical-align: top;\n",
       "    }\n",
       "\n",
       "    .dataframe thead th {\n",
       "        text-align: right;\n",
       "    }\n",
       "</style>\n",
       "<table border=\"1\" class=\"dataframe\">\n",
       "  <thead>\n",
       "    <tr style=\"text-align: right;\">\n",
       "      <th></th>\n",
       "      <th>dataset</th>\n",
       "      <th>treatment</th>\n",
       "      <th>recTime</th>\n",
       "      <th>waveforms</th>\n",
       "      <th>s_NP</th>\n",
       "      <th>n_NP</th>\n",
       "      <th>a_NP</th>\n",
       "      <th>m_NP</th>\n",
       "      <th>mx_NP</th>\n",
       "      <th>s_Pr</th>\n",
       "      <th>...</th>\n",
       "      <th>n_E2&gt;1stsE2</th>\n",
       "      <th>n_Pr.after.1stsE2</th>\n",
       "      <th>%_sE2</th>\n",
       "      <th>tPr&gt;1stE2/1stPr</th>\n",
       "      <th>tPr&gt;1stsE2/1stPr</th>\n",
       "      <th>E2_index</th>\n",
       "      <th>E1_index</th>\n",
       "      <th>frE1_ratio</th>\n",
       "      <th>%phloem_ph_fail</th>\n",
       "      <th>E2/C_ratio</th>\n",
       "    </tr>\n",
       "    <tr>\n",
       "      <th>name</th>\n",
       "      <th></th>\n",
       "      <th></th>\n",
       "      <th></th>\n",
       "      <th></th>\n",
       "      <th></th>\n",
       "      <th></th>\n",
       "      <th></th>\n",
       "      <th></th>\n",
       "      <th></th>\n",
       "      <th></th>\n",
       "      <th></th>\n",
       "      <th></th>\n",
       "      <th></th>\n",
       "      <th></th>\n",
       "      <th></th>\n",
       "      <th></th>\n",
       "      <th></th>\n",
       "      <th></th>\n",
       "      <th></th>\n",
       "      <th></th>\n",
       "      <th></th>\n",
       "    </tr>\n",
       "  </thead>\n",
       "  <tbody>\n",
       "    <tr>\n",
       "      <th>10-6-216-ch1</th>\n",
       "      <td>SBA-Rag5</td>\n",
       "      <td>None</td>\n",
       "      <td>10</td>\n",
       "      <td>NP, C, pd, E1</td>\n",
       "      <td>23624.929688</td>\n",
       "      <td>13</td>\n",
       "      <td>1817.302368</td>\n",
       "      <td>111.110001</td>\n",
       "      <td>21974.509766</td>\n",
       "      <td>5175.069824</td>\n",
       "      <td>...</td>\n",
       "      <td>None</td>\n",
       "      <td>None</td>\n",
       "      <td>NaN</td>\n",
       "      <td>NaN</td>\n",
       "      <td>NaN</td>\n",
       "      <td>NaN</td>\n",
       "      <td>NaN</td>\n",
       "      <td>NaN</td>\n",
       "      <td>NaN</td>\n",
       "      <td>NaN</td>\n",
       "    </tr>\n",
       "    <tr>\n",
       "      <th>10-6-216-ch3</th>\n",
       "      <td>SBA-Rag5</td>\n",
       "      <td>None</td>\n",
       "      <td>10</td>\n",
       "      <td>NP, C, pd, G</td>\n",
       "      <td>9557.860352</td>\n",
       "      <td>45</td>\n",
       "      <td>212.396896</td>\n",
       "      <td>67.699997</td>\n",
       "      <td>2471.939941</td>\n",
       "      <td>19242.140625</td>\n",
       "      <td>...</td>\n",
       "      <td>None</td>\n",
       "      <td>None</td>\n",
       "      <td>NaN</td>\n",
       "      <td>NaN</td>\n",
       "      <td>NaN</td>\n",
       "      <td>NaN</td>\n",
       "      <td>NaN</td>\n",
       "      <td>NaN</td>\n",
       "      <td>NaN</td>\n",
       "      <td>NaN</td>\n",
       "    </tr>\n",
       "    <tr>\n",
       "      <th>10-7-16-ch1</th>\n",
       "      <td>SBA-Rag5</td>\n",
       "      <td>None</td>\n",
       "      <td>8</td>\n",
       "      <td>C, pd, NP, E1, E2, F</td>\n",
       "      <td>8728.269531</td>\n",
       "      <td>23</td>\n",
       "      <td>379.489990</td>\n",
       "      <td>63.070000</td>\n",
       "      <td>6434.759766</td>\n",
       "      <td>19972.619141</td>\n",
       "      <td>...</td>\n",
       "      <td>0</td>\n",
       "      <td>15</td>\n",
       "      <td>6257.810059</td>\n",
       "      <td>1799.02</td>\n",
       "      <td>1799.02</td>\n",
       "      <td>0.490036</td>\n",
       "      <td>3.83</td>\n",
       "      <td>2.500000</td>\n",
       "      <td>60.0</td>\n",
       "      <td>204.23</td>\n",
       "    </tr>\n",
       "    <tr>\n",
       "      <th>10-7-16-ch3</th>\n",
       "      <td>SBA-Rag5</td>\n",
       "      <td>None</td>\n",
       "      <td>8</td>\n",
       "      <td>NP, C, pd, G</td>\n",
       "      <td>3704.050049</td>\n",
       "      <td>15</td>\n",
       "      <td>246.936661</td>\n",
       "      <td>220.220001</td>\n",
       "      <td>1086.979980</td>\n",
       "      <td>25095.949219</td>\n",
       "      <td>...</td>\n",
       "      <td>None</td>\n",
       "      <td>None</td>\n",
       "      <td>NaN</td>\n",
       "      <td>NaN</td>\n",
       "      <td>NaN</td>\n",
       "      <td>NaN</td>\n",
       "      <td>NaN</td>\n",
       "      <td>NaN</td>\n",
       "      <td>NaN</td>\n",
       "      <td>NaN</td>\n",
       "    </tr>\n",
       "    <tr>\n",
       "      <th>2-16-2016-ch5</th>\n",
       "      <td>SBA-Rag5</td>\n",
       "      <td>None</td>\n",
       "      <td>8</td>\n",
       "      <td>NP, C, pd, E1, E2, G</td>\n",
       "      <td>12060.040039</td>\n",
       "      <td>60</td>\n",
       "      <td>201.000671</td>\n",
       "      <td>78.370003</td>\n",
       "      <td>1632.020020</td>\n",
       "      <td>16739.960938</td>\n",
       "      <td>...</td>\n",
       "      <td>2</td>\n",
       "      <td>4</td>\n",
       "      <td>397.866659</td>\n",
       "      <td>705.99</td>\n",
       "      <td>846.73</td>\n",
       "      <td>0.056732</td>\n",
       "      <td>16.28</td>\n",
       "      <td>1.333333</td>\n",
       "      <td>25.0</td>\n",
       "      <td>13.32</td>\n",
       "    </tr>\n",
       "    <tr>\n",
       "      <th>2-22-2016-ch3</th>\n",
       "      <td>SBA-Rag5</td>\n",
       "      <td>None</td>\n",
       "      <td>8</td>\n",
       "      <td>NP, C, pd, G, E1, E2</td>\n",
       "      <td>2399.310059</td>\n",
       "      <td>17</td>\n",
       "      <td>141.135880</td>\n",
       "      <td>72.570000</td>\n",
       "      <td>886.030029</td>\n",
       "      <td>26400.689453</td>\n",
       "      <td>...</td>\n",
       "      <td>1</td>\n",
       "      <td>0</td>\n",
       "      <td>1086.689941</td>\n",
       "      <td>1125.70</td>\n",
       "      <td>3288.58</td>\n",
       "      <td>0.192625</td>\n",
       "      <td>18.62</td>\n",
       "      <td>2.000000</td>\n",
       "      <td>50.0</td>\n",
       "      <td>17.35</td>\n",
       "    </tr>\n",
       "    <tr>\n",
       "      <th>2-8-2016-ch8</th>\n",
       "      <td>SBA-Rag5</td>\n",
       "      <td>None</td>\n",
       "      <td>10</td>\n",
       "      <td>G, C, NP, pd, E1</td>\n",
       "      <td>8771.679688</td>\n",
       "      <td>17</td>\n",
       "      <td>515.981201</td>\n",
       "      <td>32.770000</td>\n",
       "      <td>7283.419922</td>\n",
       "      <td>8488.360352</td>\n",
       "      <td>...</td>\n",
       "      <td>None</td>\n",
       "      <td>None</td>\n",
       "      <td>NaN</td>\n",
       "      <td>NaN</td>\n",
       "      <td>NaN</td>\n",
       "      <td>NaN</td>\n",
       "      <td>NaN</td>\n",
       "      <td>NaN</td>\n",
       "      <td>NaN</td>\n",
       "      <td>NaN</td>\n",
       "    </tr>\n",
       "    <tr>\n",
       "      <th>3-1-2016-ch1</th>\n",
       "      <td>SBA-Rag5</td>\n",
       "      <td>None</td>\n",
       "      <td>8</td>\n",
       "      <td>NP, C, F, pd, G, E1, E2</td>\n",
       "      <td>1349.020020</td>\n",
       "      <td>23</td>\n",
       "      <td>58.653042</td>\n",
       "      <td>37.400002</td>\n",
       "      <td>193.169998</td>\n",
       "      <td>27450.019531</td>\n",
       "      <td>...</td>\n",
       "      <td>0</td>\n",
       "      <td>13</td>\n",
       "      <td>5384.669922</td>\n",
       "      <td>2394.08</td>\n",
       "      <td>2394.08</td>\n",
       "      <td>0.323313</td>\n",
       "      <td>2.49</td>\n",
       "      <td>2.000000</td>\n",
       "      <td>50.0</td>\n",
       "      <td>31.84</td>\n",
       "    </tr>\n",
       "    <tr>\n",
       "      <th>3-1-2016-ch8</th>\n",
       "      <td>SBA-Rag5</td>\n",
       "      <td>None</td>\n",
       "      <td>8</td>\n",
       "      <td>C, pd, G, E1, E2, NP</td>\n",
       "      <td>850.669983</td>\n",
       "      <td>10</td>\n",
       "      <td>85.067001</td>\n",
       "      <td>76.245003</td>\n",
       "      <td>161.649994</td>\n",
       "      <td>27935.240234</td>\n",
       "      <td>...</td>\n",
       "      <td>0</td>\n",
       "      <td>10</td>\n",
       "      <td>5463.819824</td>\n",
       "      <td>4248.22</td>\n",
       "      <td>4248.22</td>\n",
       "      <td>0.445341</td>\n",
       "      <td>13.36</td>\n",
       "      <td>2.000000</td>\n",
       "      <td>0.0</td>\n",
       "      <td>187.97</td>\n",
       "    </tr>\n",
       "    <tr>\n",
       "      <th>4-19-2016-ch1</th>\n",
       "      <td>SBA-Rag5</td>\n",
       "      <td>None</td>\n",
       "      <td>8</td>\n",
       "      <td>NP, C, F, pd, G, E1, E2</td>\n",
       "      <td>3089.149902</td>\n",
       "      <td>3</td>\n",
       "      <td>1029.716675</td>\n",
       "      <td>21.690001</td>\n",
       "      <td>3048.570068</td>\n",
       "      <td>25710.750000</td>\n",
       "      <td>...</td>\n",
       "      <td>0</td>\n",
       "      <td>0</td>\n",
       "      <td>4503.859863</td>\n",
       "      <td>19382.32</td>\n",
       "      <td>19382.32</td>\n",
       "      <td>0.718898</td>\n",
       "      <td>1.71</td>\n",
       "      <td>1.000000</td>\n",
       "      <td>0.0</td>\n",
       "      <td>86.58</td>\n",
       "    </tr>\n",
       "    <tr>\n",
       "      <th>4-19-2016-ch7</th>\n",
       "      <td>SBA-Rag5</td>\n",
       "      <td>None</td>\n",
       "      <td>8</td>\n",
       "      <td>F, NP, C, pd, G</td>\n",
       "      <td>17727.740234</td>\n",
       "      <td>5</td>\n",
       "      <td>3545.548096</td>\n",
       "      <td>80.610001</td>\n",
       "      <td>17413.580078</td>\n",
       "      <td>10881.129883</td>\n",
       "      <td>...</td>\n",
       "      <td>None</td>\n",
       "      <td>None</td>\n",
       "      <td>NaN</td>\n",
       "      <td>NaN</td>\n",
       "      <td>NaN</td>\n",
       "      <td>NaN</td>\n",
       "      <td>NaN</td>\n",
       "      <td>NaN</td>\n",
       "      <td>NaN</td>\n",
       "      <td>NaN</td>\n",
       "    </tr>\n",
       "  </tbody>\n",
       "</table>\n",
       "<p>11 rows × 102 columns</p>\n",
       "</div>"
      ],
      "text/plain": [
       "                dataset treatment  recTime                waveforms  \\\n",
       "name                                                                  \n",
       "10-6-216-ch1   SBA-Rag5      None       10            NP, C, pd, E1   \n",
       "10-6-216-ch3   SBA-Rag5      None       10             NP, C, pd, G   \n",
       "10-7-16-ch1    SBA-Rag5      None        8     C, pd, NP, E1, E2, F   \n",
       "10-7-16-ch3    SBA-Rag5      None        8             NP, C, pd, G   \n",
       "2-16-2016-ch5  SBA-Rag5      None        8     NP, C, pd, E1, E2, G   \n",
       "2-22-2016-ch3  SBA-Rag5      None        8     NP, C, pd, G, E1, E2   \n",
       "2-8-2016-ch8   SBA-Rag5      None       10         G, C, NP, pd, E1   \n",
       "3-1-2016-ch1   SBA-Rag5      None        8  NP, C, F, pd, G, E1, E2   \n",
       "3-1-2016-ch8   SBA-Rag5      None        8     C, pd, G, E1, E2, NP   \n",
       "4-19-2016-ch1  SBA-Rag5      None        8  NP, C, F, pd, G, E1, E2   \n",
       "4-19-2016-ch7  SBA-Rag5      None        8          F, NP, C, pd, G   \n",
       "\n",
       "                       s_NP  n_NP         a_NP        m_NP         mx_NP  \\\n",
       "name                                                                       \n",
       "10-6-216-ch1   23624.929688    13  1817.302368  111.110001  21974.509766   \n",
       "10-6-216-ch3    9557.860352    45   212.396896   67.699997   2471.939941   \n",
       "10-7-16-ch1     8728.269531    23   379.489990   63.070000   6434.759766   \n",
       "10-7-16-ch3     3704.050049    15   246.936661  220.220001   1086.979980   \n",
       "2-16-2016-ch5  12060.040039    60   201.000671   78.370003   1632.020020   \n",
       "2-22-2016-ch3   2399.310059    17   141.135880   72.570000    886.030029   \n",
       "2-8-2016-ch8    8771.679688    17   515.981201   32.770000   7283.419922   \n",
       "3-1-2016-ch1    1349.020020    23    58.653042   37.400002    193.169998   \n",
       "3-1-2016-ch8     850.669983    10    85.067001   76.245003    161.649994   \n",
       "4-19-2016-ch1   3089.149902     3  1029.716675   21.690001   3048.570068   \n",
       "4-19-2016-ch7  17727.740234     5  3545.548096   80.610001  17413.580078   \n",
       "\n",
       "                       s_Pr  ...  n_E2>1stsE2  n_Pr.after.1stsE2        %_sE2  \\\n",
       "name                         ...                                                \n",
       "10-6-216-ch1    5175.069824  ...         None               None          NaN   \n",
       "10-6-216-ch3   19242.140625  ...         None               None          NaN   \n",
       "10-7-16-ch1    19972.619141  ...            0                 15  6257.810059   \n",
       "10-7-16-ch3    25095.949219  ...         None               None          NaN   \n",
       "2-16-2016-ch5  16739.960938  ...            2                  4   397.866659   \n",
       "2-22-2016-ch3  26400.689453  ...            1                  0  1086.689941   \n",
       "2-8-2016-ch8    8488.360352  ...         None               None          NaN   \n",
       "3-1-2016-ch1   27450.019531  ...            0                 13  5384.669922   \n",
       "3-1-2016-ch8   27935.240234  ...            0                 10  5463.819824   \n",
       "4-19-2016-ch1  25710.750000  ...            0                  0  4503.859863   \n",
       "4-19-2016-ch7  10881.129883  ...         None               None          NaN   \n",
       "\n",
       "               tPr>1stE2/1stPr  tPr>1stsE2/1stPr  E2_index  E1_index  \\\n",
       "name                                                                   \n",
       "10-6-216-ch1               NaN               NaN       NaN       NaN   \n",
       "10-6-216-ch3               NaN               NaN       NaN       NaN   \n",
       "10-7-16-ch1            1799.02           1799.02  0.490036      3.83   \n",
       "10-7-16-ch3                NaN               NaN       NaN       NaN   \n",
       "2-16-2016-ch5           705.99            846.73  0.056732     16.28   \n",
       "2-22-2016-ch3          1125.70           3288.58  0.192625     18.62   \n",
       "2-8-2016-ch8               NaN               NaN       NaN       NaN   \n",
       "3-1-2016-ch1           2394.08           2394.08  0.323313      2.49   \n",
       "3-1-2016-ch8           4248.22           4248.22  0.445341     13.36   \n",
       "4-19-2016-ch1         19382.32          19382.32  0.718898      1.71   \n",
       "4-19-2016-ch7              NaN               NaN       NaN       NaN   \n",
       "\n",
       "               frE1_ratio  %phloem_ph_fail  E2/C_ratio  \n",
       "name                                                    \n",
       "10-6-216-ch1          NaN              NaN         NaN  \n",
       "10-6-216-ch3          NaN              NaN         NaN  \n",
       "10-7-16-ch1      2.500000             60.0      204.23  \n",
       "10-7-16-ch3           NaN              NaN         NaN  \n",
       "2-16-2016-ch5    1.333333             25.0       13.32  \n",
       "2-22-2016-ch3    2.000000             50.0       17.35  \n",
       "2-8-2016-ch8          NaN              NaN         NaN  \n",
       "3-1-2016-ch1     2.000000             50.0       31.84  \n",
       "3-1-2016-ch8     2.000000              0.0      187.97  \n",
       "4-19-2016-ch1    1.000000              0.0       86.58  \n",
       "4-19-2016-ch7         NaN              NaN         NaN  \n",
       "\n",
       "[11 rows x 102 columns]"
      ]
     },
     "execution_count": 14,
     "metadata": {},
     "output_type": "execute_result"
    }
   ],
   "source": [
    "res"
   ]
  },
  {
   "cell_type": "code",
   "execution_count": 26,
   "metadata": {},
   "outputs": [
    {
     "data": {
      "text/plain": [
       "Index(['10-6-216-ch1', '10-6-216-ch3', '10-7-16-ch1', '10-7-16-ch3',\n",
       "       '2-16-2016-ch5', '2-22-2016-ch3', '2-8-2016-ch8', '3-1-2016-ch1',\n",
       "       '3-1-2016-ch8', '4-19-2016-ch1', '4-19-2016-ch7'],\n",
       "      dtype='object', name='name')"
      ]
     },
     "execution_count": 26,
     "metadata": {},
     "output_type": "execute_result"
    }
   ],
   "source": [
    "res.index "
   ]
  },
  {
   "cell_type": "code",
   "execution_count": null,
   "metadata": {},
   "outputs": [],
   "source": [
    "statistical_analysis([0, 1, 2], type = 'ANOVA', parameters = ['s_NP', 'n_NP'])\n",
    "make_boxplot([0, 1, 2], type = 'ANOVA', parameters = ['s_NP', 'n_NP'])"
   ]
  },
  {
   "cell_type": "code",
   "execution_count": null,
   "metadata": {},
   "outputs": [],
   "source": [
    "assign_treatments(['name1', 'name2', 'name3'], 0)\n",
    "assign_treatments(['name4', 'name5', 'name6'], 1)"
   ]
  },
  {
   "cell_type": "code",
   "execution_count": 23,
   "metadata": {},
   "outputs": [
    {
     "data": {
      "text/html": [
       "<div>\n",
       "<style scoped>\n",
       "    .dataframe tbody tr th:only-of-type {\n",
       "        vertical-align: middle;\n",
       "    }\n",
       "\n",
       "    .dataframe tbody tr th {\n",
       "        vertical-align: top;\n",
       "    }\n",
       "\n",
       "    .dataframe thead th {\n",
       "        text-align: right;\n",
       "    }\n",
       "</style>\n",
       "<table border=\"1\" class=\"dataframe\">\n",
       "  <thead>\n",
       "    <tr style=\"text-align: right;\">\n",
       "      <th></th>\n",
       "      <th>dataset</th>\n",
       "      <th>recTime</th>\n",
       "      <th>waveforms</th>\n",
       "      <th>s_NP</th>\n",
       "      <th>n_NP</th>\n",
       "      <th>a_NP</th>\n",
       "      <th>m_NP</th>\n",
       "      <th>mx_NP</th>\n",
       "      <th>s_Pr</th>\n",
       "      <th>n_Pr</th>\n",
       "      <th>...</th>\n",
       "      <th>n_E2&gt;1stsE2</th>\n",
       "      <th>n_Pr.after.1stsE2</th>\n",
       "      <th>%_sE2</th>\n",
       "      <th>tPr&gt;1stE2/1stPr</th>\n",
       "      <th>tPr&gt;1stsE2/1stPr</th>\n",
       "      <th>E2_index</th>\n",
       "      <th>E1_index</th>\n",
       "      <th>frE1_ratio</th>\n",
       "      <th>%phloem_ph_fail</th>\n",
       "      <th>E2/C_ratio</th>\n",
       "    </tr>\n",
       "    <tr>\n",
       "      <th>name</th>\n",
       "      <th></th>\n",
       "      <th></th>\n",
       "      <th></th>\n",
       "      <th></th>\n",
       "      <th></th>\n",
       "      <th></th>\n",
       "      <th></th>\n",
       "      <th></th>\n",
       "      <th></th>\n",
       "      <th></th>\n",
       "      <th></th>\n",
       "      <th></th>\n",
       "      <th></th>\n",
       "      <th></th>\n",
       "      <th></th>\n",
       "      <th></th>\n",
       "      <th></th>\n",
       "      <th></th>\n",
       "      <th></th>\n",
       "      <th></th>\n",
       "      <th></th>\n",
       "    </tr>\n",
       "  </thead>\n",
       "  <tbody>\n",
       "    <tr>\n",
       "      <th>10-6-216-ch1</th>\n",
       "      <td>SBA-Rag5</td>\n",
       "      <td>10</td>\n",
       "      <td>NP, C, pd, E1</td>\n",
       "      <td>23624.929688</td>\n",
       "      <td>13</td>\n",
       "      <td>1817.302368</td>\n",
       "      <td>111.110001</td>\n",
       "      <td>21974.509766</td>\n",
       "      <td>5175.069824</td>\n",
       "      <td>12</td>\n",
       "      <td>...</td>\n",
       "      <td>None</td>\n",
       "      <td>None</td>\n",
       "      <td>NaN</td>\n",
       "      <td>NaN</td>\n",
       "      <td>NaN</td>\n",
       "      <td>NaN</td>\n",
       "      <td>NaN</td>\n",
       "      <td>NaN</td>\n",
       "      <td>NaN</td>\n",
       "      <td>NaN</td>\n",
       "    </tr>\n",
       "    <tr>\n",
       "      <th>10-6-216-ch3</th>\n",
       "      <td>SBA-Rag5</td>\n",
       "      <td>10</td>\n",
       "      <td>NP, C, pd, G</td>\n",
       "      <td>9557.860352</td>\n",
       "      <td>45</td>\n",
       "      <td>212.396896</td>\n",
       "      <td>67.699997</td>\n",
       "      <td>2471.939941</td>\n",
       "      <td>19242.140625</td>\n",
       "      <td>44</td>\n",
       "      <td>...</td>\n",
       "      <td>None</td>\n",
       "      <td>None</td>\n",
       "      <td>NaN</td>\n",
       "      <td>NaN</td>\n",
       "      <td>NaN</td>\n",
       "      <td>NaN</td>\n",
       "      <td>NaN</td>\n",
       "      <td>NaN</td>\n",
       "      <td>NaN</td>\n",
       "      <td>NaN</td>\n",
       "    </tr>\n",
       "    <tr>\n",
       "      <th>10-7-16-ch1</th>\n",
       "      <td>SBA-Rag5</td>\n",
       "      <td>8</td>\n",
       "      <td>C, pd, NP, E1, E2, F</td>\n",
       "      <td>8728.269531</td>\n",
       "      <td>23</td>\n",
       "      <td>379.489990</td>\n",
       "      <td>63.070000</td>\n",
       "      <td>6434.759766</td>\n",
       "      <td>19972.619141</td>\n",
       "      <td>23</td>\n",
       "      <td>...</td>\n",
       "      <td>0</td>\n",
       "      <td>15</td>\n",
       "      <td>6257.810059</td>\n",
       "      <td>1799.02</td>\n",
       "      <td>1799.02</td>\n",
       "      <td>0.490036</td>\n",
       "      <td>3.83</td>\n",
       "      <td>2.5</td>\n",
       "      <td>60.0</td>\n",
       "      <td>204.23</td>\n",
       "    </tr>\n",
       "  </tbody>\n",
       "</table>\n",
       "<p>3 rows × 101 columns</p>\n",
       "</div>"
      ],
      "text/plain": [
       "               dataset  recTime             waveforms          s_NP  n_NP  \\\n",
       "name                                                                        \n",
       "10-6-216-ch1  SBA-Rag5       10         NP, C, pd, E1  23624.929688    13   \n",
       "10-6-216-ch3  SBA-Rag5       10          NP, C, pd, G   9557.860352    45   \n",
       "10-7-16-ch1   SBA-Rag5        8  C, pd, NP, E1, E2, F   8728.269531    23   \n",
       "\n",
       "                     a_NP        m_NP         mx_NP          s_Pr  n_Pr  ...  \\\n",
       "name                                                                     ...   \n",
       "10-6-216-ch1  1817.302368  111.110001  21974.509766   5175.069824    12  ...   \n",
       "10-6-216-ch3   212.396896   67.699997   2471.939941  19242.140625    44  ...   \n",
       "10-7-16-ch1    379.489990   63.070000   6434.759766  19972.619141    23  ...   \n",
       "\n",
       "              n_E2>1stsE2  n_Pr.after.1stsE2        %_sE2  tPr>1stE2/1stPr  \\\n",
       "name                                                                         \n",
       "10-6-216-ch1         None               None          NaN              NaN   \n",
       "10-6-216-ch3         None               None          NaN              NaN   \n",
       "10-7-16-ch1             0                 15  6257.810059          1799.02   \n",
       "\n",
       "              tPr>1stsE2/1stPr  E2_index  E1_index  frE1_ratio  \\\n",
       "name                                                             \n",
       "10-6-216-ch1               NaN       NaN       NaN         NaN   \n",
       "10-6-216-ch3               NaN       NaN       NaN         NaN   \n",
       "10-7-16-ch1            1799.02  0.490036      3.83         2.5   \n",
       "\n",
       "              %phloem_ph_fail  E2/C_ratio  \n",
       "name                                       \n",
       "10-6-216-ch1              NaN         NaN  \n",
       "10-6-216-ch3              NaN         NaN  \n",
       "10-7-16-ch1              60.0      204.23  \n",
       "\n",
       "[3 rows x 101 columns]"
      ]
     },
     "execution_count": 23,
     "metadata": {},
     "output_type": "execute_result"
    }
   ],
   "source": [
    "res.iloc[0:3,:]"
   ]
  },
  {
   "cell_type": "code",
   "execution_count": 25,
   "metadata": {},
   "outputs": [
    {
     "data": {
      "text/html": [
       "<div>\n",
       "<style scoped>\n",
       "    .dataframe tbody tr th:only-of-type {\n",
       "        vertical-align: middle;\n",
       "    }\n",
       "\n",
       "    .dataframe tbody tr th {\n",
       "        vertical-align: top;\n",
       "    }\n",
       "\n",
       "    .dataframe thead th {\n",
       "        text-align: right;\n",
       "    }\n",
       "</style>\n",
       "<table border=\"1\" class=\"dataframe\">\n",
       "  <thead>\n",
       "    <tr style=\"text-align: right;\">\n",
       "      <th></th>\n",
       "      <th>dataset</th>\n",
       "      <th>recTime</th>\n",
       "      <th>waveforms</th>\n",
       "      <th>s_NP</th>\n",
       "      <th>n_NP</th>\n",
       "      <th>a_NP</th>\n",
       "      <th>m_NP</th>\n",
       "      <th>mx_NP</th>\n",
       "      <th>s_Pr</th>\n",
       "      <th>n_Pr</th>\n",
       "      <th>...</th>\n",
       "      <th>n_E2&gt;1stsE2</th>\n",
       "      <th>n_Pr.after.1stsE2</th>\n",
       "      <th>%_sE2</th>\n",
       "      <th>tPr&gt;1stE2/1stPr</th>\n",
       "      <th>tPr&gt;1stsE2/1stPr</th>\n",
       "      <th>E2_index</th>\n",
       "      <th>E1_index</th>\n",
       "      <th>frE1_ratio</th>\n",
       "      <th>%phloem_ph_fail</th>\n",
       "      <th>E2/C_ratio</th>\n",
       "    </tr>\n",
       "    <tr>\n",
       "      <th>name</th>\n",
       "      <th></th>\n",
       "      <th></th>\n",
       "      <th></th>\n",
       "      <th></th>\n",
       "      <th></th>\n",
       "      <th></th>\n",
       "      <th></th>\n",
       "      <th></th>\n",
       "      <th></th>\n",
       "      <th></th>\n",
       "      <th></th>\n",
       "      <th></th>\n",
       "      <th></th>\n",
       "      <th></th>\n",
       "      <th></th>\n",
       "      <th></th>\n",
       "      <th></th>\n",
       "      <th></th>\n",
       "      <th></th>\n",
       "      <th></th>\n",
       "      <th></th>\n",
       "    </tr>\n",
       "  </thead>\n",
       "  <tbody>\n",
       "    <tr>\n",
       "      <th>10-7-16-ch3</th>\n",
       "      <td>SBA-Rag5</td>\n",
       "      <td>8</td>\n",
       "      <td>NP, C, pd, G</td>\n",
       "      <td>3704.050049</td>\n",
       "      <td>15</td>\n",
       "      <td>246.936661</td>\n",
       "      <td>220.220001</td>\n",
       "      <td>1086.979980</td>\n",
       "      <td>25095.949219</td>\n",
       "      <td>14</td>\n",
       "      <td>...</td>\n",
       "      <td>None</td>\n",
       "      <td>None</td>\n",
       "      <td>NaN</td>\n",
       "      <td>NaN</td>\n",
       "      <td>NaN</td>\n",
       "      <td>NaN</td>\n",
       "      <td>NaN</td>\n",
       "      <td>NaN</td>\n",
       "      <td>NaN</td>\n",
       "      <td>NaN</td>\n",
       "    </tr>\n",
       "    <tr>\n",
       "      <th>2-16-2016-ch5</th>\n",
       "      <td>SBA-Rag5</td>\n",
       "      <td>8</td>\n",
       "      <td>NP, C, pd, E1, E2, G</td>\n",
       "      <td>12060.040039</td>\n",
       "      <td>60</td>\n",
       "      <td>201.000671</td>\n",
       "      <td>78.370003</td>\n",
       "      <td>1632.020020</td>\n",
       "      <td>16739.960938</td>\n",
       "      <td>59</td>\n",
       "      <td>...</td>\n",
       "      <td>2</td>\n",
       "      <td>4</td>\n",
       "      <td>397.866659</td>\n",
       "      <td>705.99</td>\n",
       "      <td>846.73</td>\n",
       "      <td>0.056732</td>\n",
       "      <td>16.28</td>\n",
       "      <td>1.333333</td>\n",
       "      <td>25.0</td>\n",
       "      <td>13.32</td>\n",
       "    </tr>\n",
       "    <tr>\n",
       "      <th>2-22-2016-ch3</th>\n",
       "      <td>SBA-Rag5</td>\n",
       "      <td>8</td>\n",
       "      <td>NP, C, pd, G, E1, E2</td>\n",
       "      <td>2399.310059</td>\n",
       "      <td>17</td>\n",
       "      <td>141.135880</td>\n",
       "      <td>72.570000</td>\n",
       "      <td>886.030029</td>\n",
       "      <td>26400.689453</td>\n",
       "      <td>17</td>\n",
       "      <td>...</td>\n",
       "      <td>1</td>\n",
       "      <td>0</td>\n",
       "      <td>1086.689941</td>\n",
       "      <td>1125.70</td>\n",
       "      <td>3288.58</td>\n",
       "      <td>0.192625</td>\n",
       "      <td>18.62</td>\n",
       "      <td>2.000000</td>\n",
       "      <td>50.0</td>\n",
       "      <td>17.35</td>\n",
       "    </tr>\n",
       "  </tbody>\n",
       "</table>\n",
       "<p>3 rows × 101 columns</p>\n",
       "</div>"
      ],
      "text/plain": [
       "                dataset  recTime             waveforms          s_NP  n_NP  \\\n",
       "name                                                                         \n",
       "10-7-16-ch3    SBA-Rag5        8          NP, C, pd, G   3704.050049    15   \n",
       "2-16-2016-ch5  SBA-Rag5        8  NP, C, pd, E1, E2, G  12060.040039    60   \n",
       "2-22-2016-ch3  SBA-Rag5        8  NP, C, pd, G, E1, E2   2399.310059    17   \n",
       "\n",
       "                     a_NP        m_NP        mx_NP          s_Pr  n_Pr  ...  \\\n",
       "name                                                                    ...   \n",
       "10-7-16-ch3    246.936661  220.220001  1086.979980  25095.949219    14  ...   \n",
       "2-16-2016-ch5  201.000671   78.370003  1632.020020  16739.960938    59  ...   \n",
       "2-22-2016-ch3  141.135880   72.570000   886.030029  26400.689453    17  ...   \n",
       "\n",
       "               n_E2>1stsE2  n_Pr.after.1stsE2        %_sE2  tPr>1stE2/1stPr  \\\n",
       "name                                                                          \n",
       "10-7-16-ch3           None               None          NaN              NaN   \n",
       "2-16-2016-ch5            2                  4   397.866659           705.99   \n",
       "2-22-2016-ch3            1                  0  1086.689941          1125.70   \n",
       "\n",
       "               tPr>1stsE2/1stPr  E2_index  E1_index  frE1_ratio  \\\n",
       "name                                                              \n",
       "10-7-16-ch3                 NaN       NaN       NaN         NaN   \n",
       "2-16-2016-ch5            846.73  0.056732     16.28    1.333333   \n",
       "2-22-2016-ch3           3288.58  0.192625     18.62    2.000000   \n",
       "\n",
       "               %phloem_ph_fail  E2/C_ratio  \n",
       "name                                        \n",
       "10-7-16-ch3                NaN         NaN  \n",
       "2-16-2016-ch5             25.0       13.32  \n",
       "2-22-2016-ch3             50.0       17.35  \n",
       "\n",
       "[3 rows x 101 columns]"
      ]
     },
     "execution_count": 25,
     "metadata": {},
     "output_type": "execute_result"
    }
   ],
   "source": [
    "res.iloc[3:6,:]"
   ]
  },
  {
   "cell_type": "markdown",
   "metadata": {},
   "source": [
    "# Training a model with DiscoEPG"
   ]
  },
  {
   "cell_type": "markdown",
   "metadata": {},
   "source": [
    "In DiscoEPG, we provide *trainer* objects that allow the users to train a ML model with their custom dataset, namely `EPGSegment` and `EPGSegmentML`. While `EPGSegment` supports training deep learning models such as `1DCNN`, `2DCNN` or `ResNet`, `EPGSegmentML` supports `scikit-learn` traditional ML models, i.e., `XGB`, `Random Forest` and `Logistic Regression`. \\\n",
    "We suggest the users to use `CNN1D` with raw input or `XGB` with wavelet transform features for initial experiments thanks to their rapid training speed and competitive predicition accuracy."
   ]
  },
  {
   "cell_type": "code",
   "execution_count": 4,
   "metadata": {},
   "outputs": [],
   "source": [
    "# Importing trainer objects\n",
    "from package.DiscoEPG import EPGSegment\n",
    "from package.DiscoEPG import EPGSegmentML"
   ]
  },
  {
   "cell_type": "markdown",
   "metadata": {},
   "source": [
    "## DiscoEPG\n",
    "Support 1DCNN, ResNet, 2DCNN"
   ]
  },
  {
   "cell_type": "markdown",
   "metadata": {},
   "source": [
    "## Training and evaluation"
   ]
  },
  {
   "cell_type": "markdown",
   "metadata": {},
   "source": [
    "Each trainer will get the model settings from a config file (.json), which has to be preprocessed to a Python dictionary"
   ]
  },
  {
   "cell_type": "code",
   "execution_count": 15,
   "metadata": {},
   "outputs": [
    {
     "name": "stdout",
     "output_type": "stream",
     "text": [
      "The autoreload extension is already loaded. To reload it, use:\n",
      "  %reload_ext autoreload\n"
     ]
    }
   ],
   "source": [
    "%load_ext autoreload\n",
    "%autoreload 2"
   ]
  },
  {
   "cell_type": "code",
   "execution_count": 16,
   "metadata": {},
   "outputs": [
    {
     "data": {
      "text/plain": [
       "{'exp_name': 'SBA-Rag5',\n",
       " 'dataset_name': 'SBA-Rag5',\n",
       " 'window_size': 1024,\n",
       " 'hop_length': 1024,\n",
       " 'arch': 'cnn1d',\n",
       " 'method': 'raw',\n",
       " 'scale': True,\n",
       " 'outlier_filter': False,\n",
       " 'optimizer': 'Adam',\n",
       " 'n_epochs': 50,\n",
       " 'lr': 0.0001,\n",
       " 'batch_size': 256,\n",
       " 'scope': 1,\n",
       " 'root_dir': 'C:\\\\Dung\\\\EPG_project\\\\ML4Insects',\n",
       " 'data_path': 'C:\\\\Dung\\\\EPG_project\\\\data',\n",
       " 'device': 'cuda',\n",
       " 'timestamp': '2024-11-21 22:45:52'}"
      ]
     },
     "execution_count": 16,
     "metadata": {},
     "output_type": "execute_result"
    }
   ],
   "source": [
    "config_file = 'C:\\\\Dung\\\\EPG_project\\\\ML4Insects\\\\configs\\\\cnn1d.soybeanAphid.raw.256.json'# Define the path to your config file\n",
    "# Model configurations\n",
    "from package.DiscoEPG.utils import process_config\n",
    "config = process_config(config_file)\n",
    "config \n",
    "# You can create/adjust the *.json configuration files in the configs folder \"./DiscoEPG/configs/your_config_files.json\""
   ]
  },
  {
   "cell_type": "code",
   "execution_count": 17,
   "metadata": {},
   "outputs": [
    {
     "name": "stdout",
     "output_type": "stream",
     "text": [
      "Training mode.\n",
      "Found 1 datasets: 'SBA-Rag5'.\n",
      "Loading data ...\n"
     ]
    },
    {
     "name": "stderr",
     "output_type": "stream",
     "text": [
      "SBA-Rag5:   8%|▊         | 3/37 [00:00<00:01, 24.15it/s]"
     ]
    },
    {
     "name": "stdout",
     "output_type": "stream",
     "text": [
      "10-6-216-ch1 - Analysis is given up to 28800.00 while the recoring's length is 36000.00.\n",
      "10-6-216-ch1 - Analysis ends at 28800.0 instead of 36000.0.\n",
      "10-6-216-ch3 - Analysis is given up to 28800.00 while the recoring's length is 36000.00.\n",
      "10-6-216-ch3 - Analysis ends at 28800.0 instead of 36000.0.\n",
      "10-7-16-ch1 - Analysis starts at 0.39 instead of 0.\n"
     ]
    },
    {
     "name": "stderr",
     "output_type": "stream",
     "text": [
      "SBA-Rag5:  32%|███▏      | 12/37 [00:00<00:00, 26.73it/s]"
     ]
    },
    {
     "name": "stdout",
     "output_type": "stream",
     "text": [
      "2-8-2016-ch8 - Analysis is given up to 28800.00 while the recoring's length is 36000.00.\n",
      "2-8-2016-ch8 - Analysis ends at 28800.0 instead of 36000.0.\n",
      "3-1-2016-ch1 - Analysis starts at 0.96 instead of 0.\n",
      "4-19-2016-ch1 - Analysis starts at 0.1 instead of 0.\n",
      "6-10-2016-ch2 - Analysis starts at 6.0 instead of 0.\n"
     ]
    },
    {
     "name": "stderr",
     "output_type": "stream",
     "text": [
      "SBA-Rag5:  73%|███████▎  | 27/37 [00:00<00:00, 28.03it/s]"
     ]
    },
    {
     "name": "stdout",
     "output_type": "stream",
     "text": [
      "6-3-2016-ch7 - Analysis starts at 0.02 instead of 0.\n",
      "6-7-2016-ch5 - Analysis starts at 2113.71 instead of 0.\n"
     ]
    },
    {
     "name": "stderr",
     "output_type": "stream",
     "text": [
      "SBA-Rag5:  89%|████████▉ | 33/37 [00:01<00:00, 26.64it/s]"
     ]
    },
    {
     "name": "stdout",
     "output_type": "stream",
     "text": [
      "7-1-2016-ch8 - Analysis is given up to 28800.00 while the recoring's length is 36000.00.\n",
      "7-1-2016-ch8 - Analysis ends at 28800.0 instead of 36000.0.\n",
      "7-19-2016-ch3 - No analysis (*.ANA) was found.\n"
     ]
    },
    {
     "name": "stderr",
     "output_type": "stream",
     "text": [
      "SBA-Rag5: 100%|██████████| 37/37 [00:01<00:00, 26.68it/s]\n"
     ]
    },
    {
     "name": "stdout",
     "output_type": "stream",
     "text": [
      "Done! Elapsed: 1.40 s\n",
      "View guidelines checking log at c:\\Dung\\EPG_project\\ML4Insects/Guideline_check.xlsx\n"
     ]
    }
   ],
   "source": [
    "# Call the trainer\n",
    "epgs = EPGSegment(config, inference = False)"
   ]
  },
  {
   "cell_type": "code",
   "execution_count": 18,
   "metadata": {},
   "outputs": [
    {
     "name": "stdout",
     "output_type": "stream",
     "text": [
      "Obtaining dataloders ...\n",
      "Generating sliding windows ...\n"
     ]
    },
    {
     "name": "stderr",
     "output_type": "stream",
     "text": [
      "100%|██████████| 37/37 [00:01<00:00, 25.26it/s]"
     ]
    },
    {
     "name": "stdout",
     "output_type": "stream",
     "text": [
      "7-19-2016-ch3 has no analysis file.\n"
     ]
    },
    {
     "name": "stderr",
     "output_type": "stream",
     "text": [
      "100%|██████████| 37/37 [00:01<00:00, 24.62it/s]\n"
     ]
    },
    {
     "name": "stdout",
     "output_type": "stream",
     "text": [
      "Processed 36/37 recordings.\n",
      "Signal processing method: raw | Scale: True\n",
      "Class distribution (label:ratio): 1: 0.38, 2: 0.27, 4: 0.01, 5: 0.09, 6: 0.05, 7: 0.17, 8: 0.03\n",
      "Labels map (from:to): {1: 0, 2: 1, 4: 2, 5: 3, 6: 4, 7: 5, 8: 6}\n",
      "Train, validate, test set sizes: (64719, 25889, 10068)\n",
      "Input shape: (256, 1, 1024)\n",
      "Training...\n"
     ]
    },
    {
     "name": "stderr",
     "output_type": "stream",
     "text": [
      "Training:   2%|▏         | 1/50 [00:05<04:28,  5.49s/it]"
     ]
    },
    {
     "name": "stdout",
     "output_type": "stream",
     "text": [
      "Epoch [1/50] | Train loss: 0.9566 | Val. loss: 0.7636 | Train acc: 0.6942 | Val. acc: 0.7667\n"
     ]
    },
    {
     "name": "stderr",
     "output_type": "stream",
     "text": [
      "Training:  22%|██▏       | 11/50 [00:46<02:41,  4.14s/it]"
     ]
    },
    {
     "name": "stdout",
     "output_type": "stream",
     "text": [
      "Epoch [11/50] | Train loss: 0.2488 | Val. loss: 0.2586 | Train acc: 0.9215 | Val. acc: 0.9137\n"
     ]
    },
    {
     "name": "stderr",
     "output_type": "stream",
     "text": [
      "Training:  42%|████▏     | 21/50 [01:28<02:02,  4.24s/it]"
     ]
    },
    {
     "name": "stdout",
     "output_type": "stream",
     "text": [
      "Epoch [21/50] | Train loss: 0.1826 | Val. loss: 0.1773 | Train acc: 0.9408 | Val. acc: 0.9447\n"
     ]
    },
    {
     "name": "stderr",
     "output_type": "stream",
     "text": [
      "Training:  62%|██████▏   | 31/50 [02:13<01:24,  4.44s/it]"
     ]
    },
    {
     "name": "stdout",
     "output_type": "stream",
     "text": [
      "Epoch [31/50] | Train loss: 0.1493 | Val. loss: 0.1650 | Train acc: 0.9510 | Val. acc: 0.9522\n"
     ]
    },
    {
     "name": "stderr",
     "output_type": "stream",
     "text": [
      "Training:  82%|████████▏ | 41/50 [02:59<00:41,  4.62s/it]"
     ]
    },
    {
     "name": "stdout",
     "output_type": "stream",
     "text": [
      "Epoch [41/50] | Train loss: 0.1244 | Val. loss: 0.1778 | Train acc: 0.9583 | Val. acc: 0.9455\n"
     ]
    },
    {
     "name": "stderr",
     "output_type": "stream",
     "text": [
      "Training: 100%|██████████| 50/50 [03:40<00:00,  4.41s/it]"
     ]
    },
    {
     "name": "stdout",
     "output_type": "stream",
     "text": [
      "Epoch [50/50] | Train loss: 0.1105 | Val. loss: 0.1436 | Train acc: 0.9622 | Val. acc: 0.9567\n",
      "Finished training!\n"
     ]
    },
    {
     "name": "stderr",
     "output_type": "stream",
     "text": [
      "\n"
     ]
    }
   ],
   "source": [
    "# Train\n",
    "epgs.train(early_stop=False)"
   ]
  },
  {
   "cell_type": "markdown",
   "metadata": {},
   "source": [
    "The performance of a ML models is performed based on:\n",
    "+ Task 1: Waveform classification - Accuracy and f1 scores\n",
    "+ Task 2: Waveform segmentation - Overlap rate"
   ]
  },
  {
   "cell_type": "code",
   "execution_count": 20,
   "metadata": {},
   "outputs": [
    {
     "name": "stdout",
     "output_type": "stream",
     "text": [
      "Accuracy: 95.71, Average f1: 88.81\n",
      "Class accuracy: {'NP': 96.48, 'C': 93.25, 'E1': 72.92, 'E2': 94.65, 'F': 97.62, 'G': 98.42, 'pd': 96.61}\n",
      "Finished testing!\n",
      "Test metrics\n",
      "{'accuracy': 95.71, 'f1': 88.81, 'precision': 92.85, 'recall': 87.09}\n"
     ]
    }
   ],
   "source": [
    "# Task 1 evaluation\n",
    "epgs.evaluate('test')\n",
    "print('Test metrics')\n",
    "print(epgs.train_result_['test_score'])"
   ]
  },
  {
   "cell_type": "code",
   "execution_count": 21,
   "metadata": {},
   "outputs": [
    {
     "ename": "FileNotFoundError",
     "evalue": "[WinError 3] The system cannot find the path specified: 'C:/Dung/EPG_project/data/twentyfour_ANA'",
     "output_type": "error",
     "traceback": [
      "\u001b[1;31m---------------------------------------------------------------------------\u001b[0m",
      "\u001b[1;31mFileNotFoundError\u001b[0m                         Traceback (most recent call last)",
      "Cell \u001b[1;32mIn[21], line 6\u001b[0m\n\u001b[0;32m      3\u001b[0m \u001b[38;5;28;01mimport\u001b[39;00m \u001b[38;5;21;01mnumpy\u001b[39;00m \u001b[38;5;28;01mas\u001b[39;00m \u001b[38;5;21;01mnp\u001b[39;00m \n\u001b[0;32m      5\u001b[0m model_overlap_rate \u001b[38;5;241m=\u001b[39m []\n\u001b[1;32m----> 6\u001b[0m all_test_rec \u001b[38;5;241m=\u001b[39m \u001b[43mos\u001b[49m\u001b[38;5;241;43m.\u001b[39;49m\u001b[43mlistdir\u001b[49m\u001b[43m(\u001b[49m\u001b[38;5;124;43mf\u001b[39;49m\u001b[38;5;124;43m'\u001b[39;49m\u001b[38;5;124;43mC:/Dung/EPG_project/data/twentyfour_ANA\u001b[39;49m\u001b[38;5;124;43m'\u001b[39;49m\u001b[43m)\u001b[49m \u001b[38;5;66;03m# replace the argument with the path to your testing directory\u001b[39;00m\n\u001b[0;32m      7\u001b[0m all_test_rec \u001b[38;5;241m=\u001b[39m [x[:\u001b[38;5;241m-\u001b[39m\u001b[38;5;241m4\u001b[39m] \u001b[38;5;28;01mfor\u001b[39;00m x \u001b[38;5;129;01min\u001b[39;00m all_test_rec]\n\u001b[0;32m      8\u001b[0m \u001b[38;5;28;01mfor\u001b[39;00m test_rec \u001b[38;5;129;01min\u001b[39;00m all_test_rec:\n",
      "\u001b[1;31mFileNotFoundError\u001b[0m: [WinError 3] The system cannot find the path specified: 'C:/Dung/EPG_project/data/twentyfour_ANA'"
     ]
    }
   ],
   "source": [
    "# Task 2 evaluation \n",
    "import os \n",
    "import numpy as np \n",
    "\n",
    "model_overlap_rate = []\n",
    "all_test_rec = os.listdir(f'C:/Dung/EPG_project/data/twentyfour_ANA') # replace the argument with the path to your testing directory\n",
    "all_test_rec = [x[:-4] for x in all_test_rec]\n",
    "for test_rec in all_test_rec:\n",
    "    epgs.segment(test_rec)\n",
    "    print(f'{test_rec} - Overlap rate: {epgs.overlap_rate}')\n",
    "    model_overlap_rate.append(epgs.overlap_rate)\n",
    "print('Done. Mean overlap rate: {}'.format(np.mean(model_overlap_rate)))"
   ]
  },
  {
   "cell_type": "code",
   "execution_count": 22,
   "metadata": {},
   "outputs": [
    {
     "data": {
      "image/png": "[encoded data removed]",
      "text/plain": [
       "<Figure size 1400x500 with 3 Axes>"
      ]
     },
     "metadata": {},
     "output_type": "display_data"
    }
   ],
   "source": [
    "# We can plot the training/validation curves and task 1 results\n",
    "epgs.plot_train_result()"
   ]
  },
  {
   "cell_type": "markdown",
   "metadata": {},
   "source": [
    "## Load a pretrained model"
   ]
  },
  {
   "cell_type": "code",
   "execution_count": 22,
   "metadata": {},
   "outputs": [
    {
     "name": "stdout",
     "output_type": "stream",
     "text": [
      "Log written to C://Dung//EPG_project//ML4Insects//troll//log/session_result.csv and C://Dung//EPG_project//ML4Insects//troll//log/session_log.txt.\n"
     ]
    },
    {
     "name": "stderr",
     "output_type": "stream",
     "text": [
      "c:\\Dung\\EPG_project\\ML4Insects\\package\\DiscoEPG\\utils\\utils.py:42: FutureWarning: The behavior of DataFrame concatenation with empty or all-NA entries is deprecated. In a future version, this will no longer exclude empty or all-NA columns when determining the result dtypes. To retain the old behavior, exclude the relevant entries before the concat operation.\n",
      "  f = pd.concat([f, pd.DataFrame([infos + t + results + class_acc],columns = columns)])\n"
     ]
    }
   ],
   "source": [
    "# Write training log \n",
    "epgs.write_train_log(save_dir = 'C://Dung//EPG_project//ML4Insects//troll//log')"
   ]
  },
  {
   "cell_type": "code",
   "execution_count": 27,
   "metadata": {},
   "outputs": [
    {
     "name": "stdout",
     "output_type": "stream",
     "text": [
      "Parameters saved to C:\\Dung\\EPG_project\\ML4Insects/checkpoints/cnn1d/cnn1d.twentyfour.pt.\n"
     ]
    }
   ],
   "source": [
    "# Save checkpoint\n",
    "epgs.save_checkpoint(name = 'cnn1d.twentyfour.pt')"
   ]
  },
  {
   "cell_type": "code",
   "execution_count": 3,
   "metadata": {},
   "outputs": [
    {
     "data": {
      "text/plain": [
       "{'exp_name': 'awdawdawdw',\n",
       " 'dataset_name': 'twentyfour',\n",
       " 'window_size': 1024,\n",
       " 'hop_length': 1024,\n",
       " 'arch': 'cnn1d',\n",
       " 'method': 'raw',\n",
       " 'scale': True,\n",
       " 'outlier_filter': False,\n",
       " 'optimizer': 'Adam',\n",
       " 'n_epochs': 50,\n",
       " 'lr': 0.0001,\n",
       " 'batch_size': 256,\n",
       " 'scope': 1,\n",
       " 'root_dir': 'C:\\\\Dung\\\\EPG_project\\\\ML4Insects',\n",
       " 'data_path': 'C:\\\\Dung\\\\EPG_project\\\\data',\n",
       " 'device': 'cuda',\n",
       " 'timestamp': '2024-09-17 09:04:11'}"
      ]
     },
     "execution_count": 3,
     "metadata": {},
     "output_type": "execute_result"
    }
   ],
   "source": [
    "# Get config\n",
    "from package.DiscoEPG.utils import process_config\n",
    "config = process_config('cnn1d.twentyfour.raw.256.json')\n",
    "config "
   ]
  },
  {
   "cell_type": "code",
   "execution_count": 7,
   "metadata": {},
   "outputs": [
    {
     "name": "stdout",
     "output_type": "stream",
     "text": [
      "Inference mode, skip loading data.\n",
      "Checkpoint loaded from C:\\Dung\\EPG_project\\ML4Insects/checkpoints/cnn1d.twentyfour.pt.\n"
     ]
    }
   ],
   "source": [
    "epgs = EPGSegment(config, inference = True)\n",
    "# load a trained model\n",
    "cp = 'cnn1d.twentyfour.pt'\n",
    "epgs.load_checkpoint(cp)"
   ]
  },
  {
   "cell_type": "code",
   "execution_count": 11,
   "metadata": {},
   "outputs": [
    {
     "name": "stdout",
     "output_type": "stream",
     "text": [
      "True\n",
      "File name: twentyfour_twenty_four_LD-LL_16_8_0zt-ch3\n",
      "Preparing data...\n",
      "Generating segmentation ...\n",
      "Overlap rate: 98.52\n"
     ]
    }
   ],
   "source": [
    "# predict \n",
    "pred_ana = epgs.segment(recording_name=0, verbose = True)"
   ]
  },
  {
   "cell_type": "code",
   "execution_count": 81,
   "metadata": {},
   "outputs": [
    {
     "data": {
      "image/png": "[encoded data removed]",
      "text/plain": [
       "<Figure size 1600x300 with 1 Axes>"
      ]
     },
     "metadata": {},
     "output_type": "display_data"
    }
   ],
   "source": [
    "# plot \n",
    "epgs.plot_segmentation(which = 'pred', savefig = False, name = 'Soybean.test_SBA-Rag5_10-6-216-ch3')"
   ]
  },
  {
   "cell_type": "markdown",
   "metadata": {},
   "source": [
    "# EPGSegmentML\n",
    "\n",
    "Support XGB, RF, LogReg, SVC"
   ]
  },
  {
   "cell_type": "code",
   "execution_count": 20,
   "metadata": {},
   "outputs": [
    {
     "data": {
      "text/plain": [
       "{'exp_name': 'Soybean_Aphid',\n",
       " 'dataset_name': 'soybeanAphid',\n",
       " 'window_size': 1024,\n",
       " 'hop_length': 1024,\n",
       " 'arch': 'XGB',\n",
       " 'method': 'wavelet',\n",
       " 'scale': True,\n",
       " 'outlier_filter': False,\n",
       " 'scope': 1,\n",
       " 'data_path': 'C:\\\\Dung\\\\EPG_project\\\\data',\n",
       " 'device': 'cuda',\n",
       " 'timestamp': '2024-09-14 00:06:16'}"
      ]
     },
     "execution_count": 20,
     "metadata": {},
     "output_type": "execute_result"
    }
   ],
   "source": [
    "# Get config\n",
    "from package.DiscoEPG.utils import process_config\n",
    "\n",
    "config = process_config('C:\\\\Dung\\\\EPG_project\\\\ML4Insects\\\\configs\\\\XGB.soybeanAphid.wavelet.json')\n",
    "config "
   ]
  },
  {
   "cell_type": "code",
   "execution_count": 21,
   "metadata": {},
   "outputs": [],
   "source": [
    "from package.DiscoEPG import EPGSegmentML"
   ]
  },
  {
   "cell_type": "code",
   "execution_count": 24,
   "metadata": {},
   "outputs": [
    {
     "name": "stdout",
     "output_type": "stream",
     "text": [
      "Loading data ...\n"
     ]
    },
    {
     "name": "stderr",
     "output_type": "stream",
     "text": [
      "100%|██████████| 32/32 [00:23<00:00,  1.36it/s]"
     ]
    },
    {
     "name": "stdout",
     "output_type": "stream",
     "text": [
      "Done! Elapsed: 23.462400899996283 s\n"
     ]
    },
    {
     "name": "stderr",
     "output_type": "stream",
     "text": [
      "\n"
     ]
    }
   ],
   "source": [
    "# Call the trainer\n",
    "epg = EPGSegmentML(config)"
   ]
  },
  {
   "cell_type": "code",
   "execution_count": 25,
   "metadata": {},
   "outputs": [
    {
     "name": "stdout",
     "output_type": "stream",
     "text": [
      "Processed dataset is saved to C:\\Dung\\EPG_project\\data/dataML\n",
      "Warning. Training data existed.\n"
     ]
    }
   ],
   "source": [
    "# Generate training data\n",
    "# Feature calculation may takes a long time (About 10 minutes for 32 recordings)\n",
    "# After that, the features matrix will be saved so that you will not have to calculate it again\n",
    "epg.generate_train_data()"
   ]
  },
  {
   "cell_type": "code",
   "execution_count": 26,
   "metadata": {},
   "outputs": [
    {
     "name": "stdout",
     "output_type": "stream",
     "text": [
      "Data loaded from C:\\Dung\\EPG_project\\data/dataML\n"
     ]
    }
   ],
   "source": [
    "epg.load_train_data()"
   ]
  },
  {
   "cell_type": "code",
   "execution_count": 27,
   "metadata": {},
   "outputs": [
    {
     "name": "stdout",
     "output_type": "stream",
     "text": [
      "Training...\n",
      "Finished training. Elapsed time: 21.915 (s)\n"
     ]
    }
   ],
   "source": [
    "# Training\n",
    "epg.fit()"
   ]
  },
  {
   "cell_type": "code",
   "execution_count": 31,
   "metadata": {},
   "outputs": [
    {
     "name": "stdout",
     "output_type": "stream",
     "text": [
      "Predicting ...\n",
      "Accuracy: 95.25, f1: 91.65\n",
      "Finished testing.\n"
     ]
    }
   ],
   "source": [
    "# Task 1 evaluation\n",
    "pred = epg.predict(epg.X_test, epg.y_test)"
   ]
  },
  {
   "cell_type": "code",
   "execution_count": 37,
   "metadata": {},
   "outputs": [
    {
     "name": "stdout",
     "output_type": "stream",
     "text": [
      "Generating segmentation ...\n"
     ]
    },
    {
     "name": "stderr",
     "output_type": "stream",
     "text": [
      "100%|██████████| 2812/2812 [00:17<00:00, 160.54it/s]\n"
     ]
    },
    {
     "name": "stdout",
     "output_type": "stream",
     "text": [
      "Overlapping rate: 0.8964878472222222\n"
     ]
    }
   ],
   "source": [
    "# Task 2 evaluation (segmentation)\n",
    "pred_ana = epg.segment('Soybean.test_SBA-Rag5_6-10-2016-ch8')\n",
    "epg.save_analysis()"
   ]
  },
  {
   "cell_type": "code",
   "execution_count": 40,
   "metadata": {},
   "outputs": [
    {
     "data": {
      "image/png": "[encoded data removed]",
      "text/plain": [
       "<Figure size 1600x500 with 2 Axes>"
      ]
     },
     "metadata": {},
     "output_type": "display_data"
    }
   ],
   "source": [
    "epg.plot_segmentation(which = 'pred_vs_gt', hour = 3)"
   ]
  },
  {
   "cell_type": "code",
   "execution_count": null,
   "metadata": {},
   "outputs": [],
   "source": []
  }
 ],
 "metadata": {
  "kernelspec": {
   "display_name": "Python 3",
   "language": "python",
   "name": "python3"
  },
  "language_info": {
   "codemirror_mode": {
    "name": "ipython",
    "version": 3
   },
   "file_extension": ".py",
   "mimetype": "text/x-python",
   "name": "python",
   "nbconvert_exporter": "python",
   "pygments_lexer": "ipython3",
   "version": "3.11.9"
  }
 },
 "nbformat": 4,
 "nbformat_minor": 2
}
